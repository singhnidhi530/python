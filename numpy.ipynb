{
 "cells": [
  {
   "cell_type": "code",
   "execution_count": 1,
   "id": "1b091b87",
   "metadata": {},
   "outputs": [
    {
     "name": "stdout",
     "output_type": "stream",
     "text": [
      "Collecting numpy\n",
      "  Downloading numpy-1.24.2-cp311-cp311-macosx_11_0_arm64.whl (13.8 MB)\n",
      "\u001b[2K     \u001b[90m━━━━━━━━━━━━━━━━━━━━━━━━━━━━━━━━━━━━━━━━\u001b[0m \u001b[32m13.8/13.8 MB\u001b[0m \u001b[31m14.0 MB/s\u001b[0m eta \u001b[36m0:00:00\u001b[0m00:01\u001b[0m00:01\u001b[0m\n",
      "\u001b[?25hInstalling collected packages: numpy\n",
      "Successfully installed numpy-1.24.2\n",
      "Note: you may need to restart the kernel to use updated packages.\n"
     ]
    }
   ],
   "source": [
    "pip install numpy"
   ]
  },
  {
   "cell_type": "code",
   "execution_count": 9,
   "id": "c0fb3bc6",
   "metadata": {},
   "outputs": [
    {
     "name": "stdout",
     "output_type": "stream",
     "text": [
      "[1 5 7]\n",
      "1.24.2\n"
     ]
    }
   ],
   "source": [
    "import numpy\n",
    "\n",
    "arr = numpy.array([1,2,5,6,7,8])\n",
    "print(arr[::2])\n",
    "print(numpy.__version__)"
   ]
  },
  {
   "cell_type": "code",
   "execution_count": 13,
   "id": "a5b5e898",
   "metadata": {},
   "outputs": [
    {
     "name": "stdout",
     "output_type": "stream",
     "text": [
      "[1 2 4 6 7 7] [1 2 6] {1, 2, 4, 6, 7}\n",
      "<class 'numpy.ndarray'> <class 'numpy.ndarray'> <class 'numpy.ndarray'>\n"
     ]
    }
   ],
   "source": [
    "\"\"\"NumPy is used to work with arrays.\n",
    "    The array object in NumPy is called ndarray.\n",
    "    We can create a NumPy ndarray object by using the array() function.\"\"\"\n",
    "\n",
    "import numpy\n",
    "\n",
    "arr = numpy.array([1,2,4,6,7,7]) #can use list\n",
    "arr2 = numpy.array((1,2,6)) #can use tuple\n",
    "arr3 = numpy.array({1,2,4,6,7}) #can use set \n",
    "\n",
    "print(arr,arr2,arr3)\n",
    "print(type(arr),type(arr2),type(arr3))"
   ]
  },
  {
   "cell_type": "code",
   "execution_count": 44,
   "id": "e2b1c3a3",
   "metadata": {},
   "outputs": [
    {
     "name": "stdout",
     "output_type": "stream",
     "text": [
      "0-D Array- 42 , dimension of array = 0\n",
      "1-D Array- [1 2 5 7] , dimension of array = 1\n",
      "2-D Array- [[1 2 3]\n",
      " [4 5 6]] , dimension of array = 2\n",
      "3-D Array- [[[1 2 3]\n",
      "  [4 7 9]]\n",
      "\n",
      " [[1 0 3]\n",
      "  [4 5 6]]] , dimension of array = 3\n",
      "[[1 2 3 4]] , number of dimensions = 2\n"
     ]
    }
   ],
   "source": [
    "\"\"\"Dimensions in Arrays\"\"\"\n",
    "import numpy as np\n",
    "# ndim is used to know dimension of array\n",
    "# 0-D Arrays\n",
    "arr = np.array(42)\n",
    "print(\"0-D Array-\",arr,\", dimension of array =\", arr.ndim)\n",
    "\n",
    "# 1-D Arrays\n",
    "arr2 = np.array([1,2,5,7])\n",
    "print(\"1-D Array-\",arr2,\", dimension of array =\", arr2.ndim)\n",
    "\n",
    "# 2-D Arrays\n",
    "arr3 = np.array([[1, 2, 3], [4, 5, 6]])\n",
    "print(\"2-D Array-\",arr3,\", dimension of array =\", arr3.ndim)\n",
    "\n",
    "# 3-D arrays\n",
    "arr4 = np.array([[[1, 2, 3], [4, 7, 9]], [[1, 0, 3], [4, 5, 6]]])\n",
    "print(\"3-D Array-\",arr4,\", dimension of array =\", arr4.ndim)\n",
    "\n",
    "\n",
    "# ndim can be used to create numpy array of desired dimension\n",
    "\n",
    "arr = np.array([1, 2, 3, 4], ndmin=2)\n",
    "\n",
    "print(arr,', number of dimensions =', arr.ndim)\n"
   ]
  },
  {
   "cell_type": "code",
   "execution_count": 7,
   "id": "1c8ab031",
   "metadata": {},
   "outputs": [
    {
     "name": "stdout",
     "output_type": "stream",
     "text": [
      "2nd element 2\n",
      "2nd element on 1st row:  2\n",
      "Last element from 2nd dim:  10\n",
      "2nd element on 1st row: 10\n"
     ]
    }
   ],
   "source": [
    "import numpy as np\n",
    "\n",
    "# Access 1-D Arrays\n",
    "arr = np.array([1,2,3,4,5])\n",
    "print(\"2nd element\",arr[1])\n",
    "\n",
    "\n",
    "# Access 2-D Arrays\n",
    "arr1 = np.array([[1,2,3,4,5], [6,7,8,9,10]])\n",
    "print('2nd element on 1st row: ', arr1[0, 1]) #2\n",
    "print('Last element from 2nd dim: ', arr1[1, -1]) #10\n",
    "\n",
    "# Access 3-D Arrays\n",
    "arr2 = np.array([[[1, 2, 3], [4, 5, 6]], [[7, 8, 9], [10, 11, 12]]])\n",
    "# 1 ---> [[7, 8, 9], [10, 11, 12]]\n",
    "# 1 ---> [10, 11, 12]\n",
    "# 0 ---> 10\n",
    "print(\"2nd element on 1st row:\",arr2[1,1,0]) #10\n"
   ]
  },
  {
   "cell_type": "code",
   "execution_count": 68,
   "id": "9b556ecb",
   "metadata": {},
   "outputs": [
    {
     "name": "stdout",
     "output_type": "stream",
     "text": [
      "0 1\n",
      "010110 beautiful\n",
      "1 0\n",
      "010110 beautiful\n",
      "0 1\n",
      "010110 beautiful\n",
      "1 1\n",
      "1 0\n",
      "010110 beautiful\n",
      "1\n"
     ]
    }
   ],
   "source": [
    "st = \"010110\"\n",
    "count = 0\n",
    "for index,x in enumerate(st):\n",
    "    if index in range(len(st)-1):\n",
    "        \n",
    "        print(st[index], st[index+1])\n",
    "        \n",
    "        if (st[index] == \"0\" and st[index+1] == \"1\") or (st[index] == \"1\" and st[index+1] == \"0\"):\n",
    "            print(st, \"beautiful\")\n",
    "        else:\n",
    "            count= count+1\n",
    "print(count)\n",
    "        "
   ]
  },
  {
   "cell_type": "code",
   "execution_count": 74,
   "id": "28e926c6",
   "metadata": {},
   "outputs": [
    {
     "name": "stdout",
     "output_type": "stream",
     "text": [
      "6\n"
     ]
    }
   ],
   "source": [
    "s = \"01010010101\"\n",
    "count = 0\n",
    "for i in range(1, len(s)):\n",
    "    if s[i] == s[i-1]:\n",
    "        count += 1\n",
    "        s = s[:i] + str(1-int(s[i])) + s[i+1:]\n",
    "print(count)"
   ]
  },
  {
   "cell_type": "code",
   "execution_count": 9,
   "id": "1cb6db68",
   "metadata": {},
   "outputs": [
    {
     "name": "stdout",
     "output_type": "stream",
     "text": [
      "[1, 4, 5, 6, 7, 7, 6]\n"
     ]
    }
   ],
   "source": [
    "position = 3\n",
    "arr = [1, 4, 5, 6, 6, 7, 7] \n",
    "x = arr[4:]\n",
    "arr1 = arr[:4]\n",
    "print(arr1+x[::-1])"
   ]
  },
  {
   "cell_type": "code",
   "execution_count": null,
   "id": "7ed4dfab",
   "metadata": {},
   "outputs": [],
   "source": []
  },
  {
   "cell_type": "code",
   "execution_count": null,
   "id": "700cd3ff",
   "metadata": {},
   "outputs": [],
   "source": []
  }
 ],
 "metadata": {
  "kernelspec": {
   "display_name": "Python 3 (ipykernel)",
   "language": "python",
   "name": "python3"
  },
  "language_info": {
   "codemirror_mode": {
    "name": "ipython",
    "version": 3
   },
   "file_extension": ".py",
   "mimetype": "text/x-python",
   "name": "python",
   "nbconvert_exporter": "python",
   "pygments_lexer": "ipython3",
   "version": "3.11.2"
  }
 },
 "nbformat": 4,
 "nbformat_minor": 5
}
