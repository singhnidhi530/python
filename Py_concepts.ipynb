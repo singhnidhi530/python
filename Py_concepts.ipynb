{
 "cells": [
  {
   "cell_type": "code",
   "execution_count": null,
   "id": "27a1f626",
   "metadata": {},
   "outputs": [],
   "source": [
    "\"\"\"static and dynamic methods in python\"\"\""
   ]
  },
  {
   "cell_type": "code",
   "execution_count": null,
   "id": "bf1c3fe8",
   "metadata": {},
   "outputs": [],
   "source": [
    "\"\"\"Decorators in python\"\"\""
   ]
  },
  {
   "cell_type": "code",
   "execution_count": null,
   "id": "e775e4a8",
   "metadata": {},
   "outputs": [],
   "source": [
    "\"\"\"__str__ and __reps__\"\"\""
   ]
  },
  {
   "cell_type": "code",
   "execution_count": null,
   "id": "dd7913e7",
   "metadata": {},
   "outputs": [],
   "source": [
    "\"\"\"generators in python\"\"\""
   ]
  },
  {
   "cell_type": "code",
   "execution_count": null,
   "id": "738b38bd",
   "metadata": {},
   "outputs": [],
   "source": [
    "\"\"\"closers in python\"\"\""
   ]
  }
 ],
 "metadata": {
  "kernelspec": {
   "display_name": "Python 3 (ipykernel)",
   "language": "python",
   "name": "python3"
  },
  "language_info": {
   "codemirror_mode": {
    "name": "ipython",
    "version": 3
   },
   "file_extension": ".py",
   "mimetype": "text/x-python",
   "name": "python",
   "nbconvert_exporter": "python",
   "pygments_lexer": "ipython3",
   "version": "3.11.2"
  }
 },
 "nbformat": 4,
 "nbformat_minor": 5
}
