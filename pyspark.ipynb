{
 "cells": [
  {
   "cell_type": "code",
   "execution_count": 2,
   "id": "5ba2b2c5",
   "metadata": {},
   "outputs": [
    {
     "name": "stdout",
     "output_type": "stream",
     "text": [
      "112\n"
     ]
    }
   ],
   "source": [
    "x=1500/13.3\n",
    "print(int(x))"
   ]
  },
  {
   "cell_type": "code",
   "execution_count": 7,
   "id": "c0dbfa90",
   "metadata": {},
   "outputs": [
    {
     "name": "stdout",
     "output_type": "stream",
     "text": [
      "{'17843': 0, '45487': 1, '141342': 2}\n"
     ]
    }
   ],
   "source": [
    "spots = [17843,45487,141342]\n",
    "mapping={}\n",
    "for i, car in enumerate(spots):\n",
    "    if car is not None:\n",
    "        mapping[str(car)] = i\n",
    "        \n",
    "print(mapping)"
   ]
  },
  {
   "cell_type": "code",
   "execution_count": null,
   "id": "8017885b",
   "metadata": {},
   "outputs": [],
   "source": []
  }
 ],
 "metadata": {
  "kernelspec": {
   "display_name": "Python 3 (ipykernel)",
   "language": "python",
   "name": "python3"
  },
  "language_info": {
   "codemirror_mode": {
    "name": "ipython",
    "version": 3
   },
   "file_extension": ".py",
   "mimetype": "text/x-python",
   "name": "python",
   "nbconvert_exporter": "python",
   "pygments_lexer": "ipython3",
   "version": "3.11.2"
  }
 },
 "nbformat": 4,
 "nbformat_minor": 5
}
