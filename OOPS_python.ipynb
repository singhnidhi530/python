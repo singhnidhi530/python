{
 "cells": [
  {
   "cell_type": "code",
   "execution_count": 19,
   "id": "7ce7dfec",
   "metadata": {},
   "outputs": [
    {
     "name": "stdout",
     "output_type": "stream",
     "text": [
      "Hello, my name is Alice and I am 25 years old.\n",
      "Hello, my name is Bob and I am 30 years old.\n",
      "Hello, my name is Nidhi and I am 26 years old.\n"
     ]
    }
   ],
   "source": [
    "\"\"\"Classes: In Python, a class is a blueprint for creating objects\n",
    "    with specific attributes and methods. You can define a class using\n",
    "    the class keyword, and then create instances of that class using \n",
    "    the constructor method (usually __init__()).\n",
    "    \n",
    "    Objects: An object is an instance of a class, and it has its own \n",
    "    set of attributes and methods. You can create objects by calling\n",
    "    the constructor method of a class.\"\"\"\n",
    "\n",
    "#create Person class\n",
    "class Person:\n",
    "    def __init__(self, name, age): #set attributes name and age\n",
    "        self.name = name\n",
    "        self.age = age\n",
    "    \n",
    "    def say_hello(self): # method to access attributes\n",
    "        print(f\"Hello, my name is {self.name} and I am {self.age} years old.\")\n",
    "\n",
    "#create person1 object\n",
    "person1 = Person(\"Alice\", 25)\n",
    "person1.say_hello() \n",
    "\n",
    "# create another object person2\n",
    "person2 = Person(\"Bob\", 30)\n",
    "person2.say_hello()  \n",
    "\n",
    "# create another object person3 and access attributes\n",
    "person3 = Person(\"Nidhi\",26)\n",
    "print(f\"Hello, my name is {person3.name} and I am {person3.age} years old.\")"
   ]
  },
  {
   "cell_type": "code",
   "execution_count": null,
   "id": "28b52d73",
   "metadata": {},
   "outputs": [],
   "source": []
  },
  {
   "cell_type": "code",
   "execution_count": 20,
   "id": "c911dcfb",
   "metadata": {},
   "outputs": [
    {
     "name": "stdout",
     "output_type": "stream",
     "text": [
      "Fido\n",
      "Dog\n",
      "Labrador Retriever\n",
      "Woof!\n",
      "Garfield\n",
      "Cat\n",
      "Orange\n",
      "Meow!\n"
     ]
    }
   ],
   "source": [
    "\"\"\"Inheritance: In Python, you can create a new class \n",
    "   that \"inherits\" the attributes and methods of an \n",
    "   existing class. The new class is called a \"subclass\",\n",
    "   and the existing class is called the \"superclass\".\n",
    "   The subclass can add new attributes and methods, \n",
    "   or override existing ones.\"\"\"\n",
    "\n",
    "class Animal:\n",
    "    def __init__(self, name, species):\n",
    "        self.name = name\n",
    "        self.species = species\n",
    "        \n",
    "    def make_sound(self):\n",
    "        pass\n",
    "\n",
    "class Dog(Animal):\n",
    "    def __init__(self, name, breed):\n",
    "        super().__init__(name, species=\"Dog\")\n",
    "        self.breed = breed\n",
    "        \n",
    "    def make_sound(self):\n",
    "        return \"Woof!\"\n",
    "\n",
    "class Cat(Animal):\n",
    "    def __init__(self, name, color):\n",
    "        super().__init__(name, species=\"Cat\")\n",
    "        self.color = color\n",
    "        \n",
    "    def make_sound(self):\n",
    "        return \"Meow!\"\n",
    "\n",
    "    \n",
    "    \n",
    "    \n",
    "dog = Dog(\"Fido\", \"Labrador Retriever\")\n",
    "cat = Cat(\"Garfield\", \"Orange\")\n",
    "\n",
    "print(dog.name)     # Output: Fido\n",
    "print(dog.species)  # Output: Dog\n",
    "print(dog.breed)    # Output: Labrador Retriever\n",
    "print(dog.make_sound())  # Output: Woof!\n",
    "\n",
    "print(cat.name)     # Output: Garfield\n",
    "print(cat.species)  # Output: Cat\n",
    "print(cat.color)    # Output: Orange\n",
    "print(cat.make_sound())  # Output: Meow!\n"
   ]
  },
  {
   "cell_type": "code",
   "execution_count": null,
   "id": "1275f5d3",
   "metadata": {},
   "outputs": [],
   "source": []
  },
  {
   "cell_type": "code",
   "execution_count": 24,
   "id": "d80390fb",
   "metadata": {},
   "outputs": [
    {
     "name": "stdout",
     "output_type": "stream",
     "text": [
      "John\n",
      "35\n",
      "P001\n",
      "124\n",
      "P001\n"
     ]
    }
   ],
   "source": [
    "\"\"\"Encapsulation: Encapsulation is the practice of hiding\n",
    "    the implementation details of a class from the outside world,\n",
    "    and only exposing a public interface. In Python, \n",
    "    you can define \"private\" attributes and methods using \n",
    "    the double underscore prefix (e.g. __private_attribute),\n",
    "    which makes them inaccessible from outside the class.\"\"\"\n",
    "\n",
    "class Patient:\n",
    "    def __init__(self, name, age, patient_id):\n",
    "        self.name = name\n",
    "        self.age = age\n",
    "        self._patient_id = patient_id  # Private attribute\n",
    "    \n",
    "    def get_name(self):\n",
    "        return self.name\n",
    "    \n",
    "    def get_age(self):\n",
    "        return self.age\n",
    "    \n",
    "    def get_patient_id(self):\n",
    "        return self._patient_id\n",
    "    \n",
    "class Person(Patient):\n",
    "    def __init__(self, name, age, patient_id, dignosis):\n",
    "        self.dignosis = dignosis\n",
    "        super().__init__(name, age, patient_id)\n",
    "        \n",
    "    def get_diagnos_id(self):\n",
    "        return self.dignosis\n",
    "        \n",
    "# Creating an object of the class Patient\n",
    "patient1 = Patient(\"John\", 35, \"P001\")\n",
    "person = Person(\"John\", 35, \"P001\", 124)\n",
    "# Accessing object attributes\n",
    "print(patient1.get_name())          # Output: John\n",
    "print(patient1.get_age())           # Output: 35\n",
    "print(patient1.get_patient_id()) \n",
    "print(person.get_diagnos_id()) \n",
    "print(person.get_patient_id()) "
   ]
  },
  {
   "cell_type": "code",
   "execution_count": null,
   "id": "ced59a62",
   "metadata": {},
   "outputs": [],
   "source": []
  },
  {
   "cell_type": "code",
   "execution_count": null,
   "id": "4c0ff030",
   "metadata": {},
   "outputs": [],
   "source": [
    "\"\"\"Polymorphism: Polymorphism refers to the ability\n",
    "    of different objects to respond to the same message \n",
    "    (method call) in different ways. In Python, you can \n",
    "    achieve polymorphism by defining different methods \n",
    "    with the same name in different classes \n",
    "    (e.g. method overloading) or by using inheritance \n",
    "    to override methods in subclasses (e.g. method overriding).\"\"\"\n",
    "\n",
    "\n"
   ]
  },
  {
   "cell_type": "code",
   "execution_count": null,
   "id": "3d739c86",
   "metadata": {},
   "outputs": [],
   "source": []
  },
  {
   "cell_type": "code",
   "execution_count": null,
   "id": "d5c33808",
   "metadata": {},
   "outputs": [],
   "source": [
    "\"\"\"Abstraction: Abstraction is the process of simplifying\n",
    "    complex systems by modeling them at a higher level of\n",
    "    abstraction. In Python, you can use abstraction to \n",
    "    create abstract base classes,which define a \n",
    "    common interface for a set of subclasses without\n",
    "    providing implementation details.\"\"\"\n",
    "\n"
   ]
  },
  {
   "cell_type": "code",
   "execution_count": null,
   "id": "1e979780",
   "metadata": {},
   "outputs": [],
   "source": []
  }
 ],
 "metadata": {
  "kernelspec": {
   "display_name": "Python 3 (ipykernel)",
   "language": "python",
   "name": "python3"
  },
  "language_info": {
   "codemirror_mode": {
    "name": "ipython",
    "version": 3
   },
   "file_extension": ".py",
   "mimetype": "text/x-python",
   "name": "python",
   "nbconvert_exporter": "python",
   "pygments_lexer": "ipython3",
   "version": "3.11.2"
  }
 },
 "nbformat": 4,
 "nbformat_minor": 5
}
