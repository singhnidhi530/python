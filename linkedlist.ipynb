{
 "cells": [
  {
   "cell_type": "code",
   "execution_count": 3,
   "id": "4b690f5e",
   "metadata": {},
   "outputs": [
    {
     "name": "stdout",
     "output_type": "stream",
     "text": [
      "PHP\n",
      "Python\n",
      "C#\n",
      "C++\n",
      "Java\n",
      "\n",
      "head.data:  PHP\n",
      "tail.data:  Java\n"
     ]
    }
   ],
   "source": [
    "class Node:\n",
    "    # Singly linked node\n",
    "    def __init__(self, data=None):\n",
    "        self.data = data\n",
    "        self.next = None\n",
    "class singly_linked_list:\n",
    "    def __init__(self):\n",
    "        # Create an empty list\n",
    "        self.head = None\n",
    "        self.tail = None\n",
    "        self.count = 0\n",
    "    def iterate_item(self):\n",
    "        # Iterate the list.\n",
    "        current_item = self.head\n",
    "        while current_item:\n",
    "            val = current_item.data\n",
    "            current_item = current_item.next\n",
    "            yield val\n",
    "    def append_item(self, data):\n",
    "        #Append items on the list\n",
    "        node = Node(data)\n",
    "        if self.tail:\n",
    "            self.tail.next = node\n",
    "            self.tail = node\n",
    "        else:\n",
    "            self.head = node\n",
    "            self.tail = node\n",
    "        self.count += 1\n",
    "        \n",
    "items = singly_linked_list()\n",
    "items.append_item('PHP')\n",
    "items.append_item('Python')\n",
    "items.append_item('C#')\n",
    "items.append_item('C++')\n",
    "items.append_item('Java')\n",
    "for val in items.iterate_item():\n",
    "    print(val)\n",
    "print(\"\\nhead.data: \",items.head.data)\n",
    "print(\"tail.data: \",items.tail.data)\n"
   ]
  },
  {
   "cell_type": "code",
   "execution_count": 3,
   "id": "b880a738",
   "metadata": {},
   "outputs": [
    {
     "name": "stdout",
     "output_type": "stream",
     "text": [
      "1\n",
      "2\n",
      "3\n"
     ]
    }
   ],
   "source": [
    "# Python program for traversal of a linked list\n",
    "# Node class\n",
    "  \n",
    "class Node:\n",
    "  \n",
    "    # Function to initialise the node object\n",
    "    def __init__(self, data):\n",
    "        self.data = data  # Assign data\n",
    "        self.next = None  # Initialize next as null\n",
    "  \n",
    "  \n",
    "# Linked List class contains a Node object\n",
    "class LinkedList:\n",
    "  \n",
    "    # Function to initialize head\n",
    "    def __init__(self):\n",
    "        self.head = None\n",
    "  \n",
    "    # This function prints contents of linked list\n",
    "    # starting from head\n",
    "    def printList(self):\n",
    "        temp = self.head\n",
    "        while (temp):\n",
    "            print(temp.data)\n",
    "            temp = temp.next\n",
    "  \n",
    "  \n",
    "# Code execution starts here\n",
    "if __name__ == '__main__':\n",
    "  \n",
    "    # Start with the empty list\n",
    "    llist = LinkedList()\n",
    "  \n",
    "    llist.head = Node(1)\n",
    "    second = Node(2)\n",
    "    third = Node(3)\n",
    "  \n",
    "    llist.head.next = second  # Link first node with second\n",
    "    second.next = third  # Link second node with the third node\n",
    "  \n",
    "    llist.printList()"
   ]
  },
  {
   "cell_type": "code",
   "execution_count": null,
   "id": "66f92e69",
   "metadata": {},
   "outputs": [],
   "source": []
  }
 ],
 "metadata": {
  "kernelspec": {
   "display_name": "Python 3 (ipykernel)",
   "language": "python",
   "name": "python3"
  },
  "language_info": {
   "codemirror_mode": {
    "name": "ipython",
    "version": 3
   },
   "file_extension": ".py",
   "mimetype": "text/x-python",
   "name": "python",
   "nbconvert_exporter": "python",
   "pygments_lexer": "ipython3",
   "version": "3.11.2"
  }
 },
 "nbformat": 4,
 "nbformat_minor": 5
}
