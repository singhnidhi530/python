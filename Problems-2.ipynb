{
 "cells": [
  {
   "cell_type": "code",
   "execution_count": null,
   "id": "5c4bb68d",
   "metadata": {},
   "outputs": [],
   "source": [
    "# list vs tuple, both are seq datatype; mutable and unmutable respectively.\n",
    "my_tuple = ('sara', 6, 5, 0.97)\n",
    "my_list = ['sara', 6, 5, 0.97]\n",
    "print(my_tuple[0])     # output => 'sara'\n",
    "print(my_list[0])     # output => 'sara'\n",
    "# my_tuple[0] = 'nidhi'    # modifying tuple => throws an error\n",
    "my_list[0] = 'nidhi'    # modifying list => list modified\n",
    "print(my_tuple[0])     # output => 'sara'\n",
    "print(my_list[0])     # output => 'nidhi'\n",
    "iiiiiiiiii\n",
    "type(my_list)\n",
    "data = isinstance(my_tuple, tuple)\n",
    "print(data)"
   ]
  },
  {
   "cell_type": "code",
   "execution_count": null,
   "id": "1a24e8d9",
   "metadata": {
    "scrolled": true
   },
   "outputs": [],
   "source": [
    "# set operations \n",
    "set1 = set()\n",
    "set2 = set()\n",
    "set3 = {\"apple\", \"banana\", \"cherry\"}\n",
    "for i in range(6):\n",
    "    set1.add(i)\n",
    "    \n",
    "for i in range(3,10):\n",
    "    set2.add(i)\n",
    "key = 8\n",
    "if key in set1:\n",
    "    print(\"Found\")\n",
    "else:\n",
    "    print(\"Not Found\")\n",
    "# union\n",
    "setUnion = set1 | set2\n",
    "# intersection\n",
    "setIntersection = set1 & set2\n",
    "# difference\n",
    "setDiff = set1 - set2\n",
    "# check if sets have nothing in common\n",
    "if set1.isdisjoint(set2):\n",
    "    print(\"Set1 and Set2 have nothing in common\\n\")\n",
    "    \n",
    "#checking subset and superset\n",
    "if set1 > set2: # set1.issuperset(set2)\n",
    "    print(\"Set1 is superset of Set2\")\n",
    "elif set1 < set2: # set1.issubset(set2)\n",
    "    print(\"Set1 is subset of Set2\")\n",
    "else : # set1 == set2\n",
    "    print(\"Set1 is same as Set2\")\n",
    "\n",
    "type(set3)    \n",
    "print(set1)\n",
    "print(set2)\n",
    "print(setUnion)\n",
    "print(setIntersection)\n",
    "print(setDiff)"
   ]
  },
  {
   "cell_type": "code",
   "execution_count": null,
   "id": "afb45cd1",
   "metadata": {},
   "outputs": [],
   "source": [
    "# list basic operations\n",
    "\n",
    "list = [1,'abc','y',\"apple\", \"banana\",'y', \"cherry\"]\n",
    "list2 = [\"red\", \"1\", \"pink\", 76, \"lavender\", 80]\n",
    "tuple = (\"fixed1\", 2, \"fixed2\")\n",
    "print(list)\n",
    "print(list[2:5]) # starts with index 2 end index is not included\n",
    "print(list[:3]) # from last 3rd(excluded) to first index \n",
    "print(list[2:]) # start from index 2 end till last index value\n",
    "print(list[-3:-1]) # from last index to last 3rd index(excluded)\n",
    "\n",
    "# alter using range\n",
    "list[1:2] = [\"blackcurrant\", \"watermelon\"]\n",
    "\n",
    "# check if item exist in list\n",
    "if \"blackcurrant\" in list:\n",
    "    print(\"Item exists in given list\")\n",
    "    \n",
    "# insert and append in list\n",
    "print(list)\n",
    "list.insert(3,\"newapple\") # dosn't replace but adds items to given index\n",
    "print(list)\n",
    "list.append(\"orange\") # adds item to the end of list\n",
    "print(list)\n",
    "\n",
    "# combine list with list, tuples, sets, dictionary\n",
    "list.extend(list2) \n",
    "list2.extend(tuple) \n",
    "\n",
    "#remove/del clear and pop items from list\n",
    "list.remove(\"y\") # eliminates specified value\n",
    "\n",
    "# del list[0] # deletes specified index value\n",
    "# del list  # deletes entire list\n",
    "\n",
    "# list2.clear() # empties the list\n",
    "\n",
    "# list.pop(1) # gives specified index value\n",
    "# list.pop() # gives last index value\n"
   ]
  },
  {
   "cell_type": "code",
   "execution_count": null,
   "id": "ff3e9c66",
   "metadata": {},
   "outputs": [],
   "source": [
    "#loop statements\n",
    "list = [1,'abc','y',\"apple\", \"banana\", \"cherry\"]\n",
    "\n",
    "for x in list: # loop through list\n",
    "    print(x)\n",
    "\n",
    "for x in \"banana\": # loop through string\n",
    "    print(x)\n",
    "    \n",
    "for x in range(6): # loop through range\n",
    "    print(\"range 6 : \", x)\n",
    "for x in range(4,10): # loop through range\n",
    "    print(\"range 4,10 : \", x)\n",
    "for x in range(2, 20, 2): # loop through sequence\n",
    "    print(\"sequence 2, 20, 2 : \", x)\n",
    "    \n",
    "# for else\n",
    "for x in range(6):\n",
    "    print(x)\n",
    "else:\n",
    "    print(\"Finally finished!\")"
   ]
  },
  {
   "cell_type": "code",
   "execution_count": null,
   "id": "c1f2b3c9",
   "metadata": {},
   "outputs": [],
   "source": [
    "# continue break pass in loops\n",
    "list = [1,'somefruit','somefruit1',\"apple\", \"banana\",\"vegie\", \"cherry\"]\n",
    "for x in [0, 1, 2]:\n",
    "    pass #empty for loop will give error so use pass\n",
    "\n",
    "for x in list:\n",
    "    if x=='somefruit':\n",
    "        continue  # exits the loop only when the condition is false \n",
    "    print(x)\n",
    "\n",
    "for x in list:\n",
    "    if x==\"vegie\":\n",
    "        break  # exit the loop if condition is true\n",
    "    print(x)"
   ]
  },
  {
   "cell_type": "code",
   "execution_count": null,
   "id": "1fab2c00",
   "metadata": {},
   "outputs": [],
   "source": [
    "for x in range(1,100):\n",
    "    if x%2==0 and x%5==0:\n",
    "        x=\"buzzfizz\"\n",
    "    elif x%2==0:\n",
    "        x=\"fuzz\"\n",
    "    elif x%5==0:\n",
    "        x=\"buzz\"\n",
    "   \n",
    "    print(x)"
   ]
  },
  {
   "cell_type": "code",
   "execution_count": null,
   "id": "f2ed3110",
   "metadata": {},
   "outputs": [],
   "source": [
    "size = int(input(\"size : \"))   # Reading input from STDIN\n",
    "\n",
    "value = list\n",
    "val = list\n",
    "for i in range(0,size):\n",
    "    val = input()\n",
    "    value.append(val)\n",
    "value.sort()\n",
    "int(result[1])"
   ]
  },
  {
   "cell_type": "code",
   "execution_count": null,
   "id": "f64014ba",
   "metadata": {},
   "outputs": [],
   "source": [
    "for x in range(6):\n",
    "    for y in range(0,x+1):\n",
    "        print(\"*\", end=\" \")\n",
    "        \n",
    "    print(\"\\r\")"
   ]
  },
  {
   "cell_type": "code",
   "execution_count": null,
   "id": "d755ee4d",
   "metadata": {},
   "outputs": [],
   "source": [
    "#check and remove given item from a list\n",
    "list = [8,7,4,9,0,6,8,1,2,7,3]\n",
    "excluded = 8\n",
    "for x in list:\n",
    "    if x==excluded:\n",
    "        continue\n",
    "    print(x)"
   ]
  },
  {
   "cell_type": "code",
   "execution_count": null,
   "id": "aedffa9b",
   "metadata": {},
   "outputs": [],
   "source": [
    "y=1\n",
    "for x in range(1,6):\n",
    "    y=y*x\n",
    "print(y)\n",
    "\n",
    "# or use build-ins\n",
    "import math\n",
    "math.factorial(5)"
   ]
  },
  {
   "cell_type": "code",
   "execution_count": null,
   "id": "40f638a0",
   "metadata": {
    "scrolled": true
   },
   "outputs": [],
   "source": [
    "#amstrong number\n",
    "# Input : 1253\n",
    "# Output : No\n",
    "# 1253 is not a Armstrong Number\n",
    "# 1*1*1*1 + 2*2*2*2 + 5*5*5*5 + 3*3*3*3 = 723\n",
    "# 153 is an Armstrong number.\n",
    "# 1*1*1 + 5*5*5 + 3*3*3 = 153\n",
    "\n",
    "n = \"1634\"\n",
    "result = 0\n",
    "x = len(n)\n",
    "\n",
    "for y in n:\n",
    "    result = result + pow(int(y),x)\n",
    "if result==int(n):\n",
    "    print(n, \"is a Armstrong Number\")\n",
    "else:\n",
    "    print(n, \"is not a Armstrong Number\")"
   ]
  },
  {
   "cell_type": "code",
   "execution_count": null,
   "id": "68026910",
   "metadata": {},
   "outputs": [],
   "source": [
    "#find Prime numbers in an Interval\n",
    "# 2*2=0, 2*3=0 ,2*4...n=0\n",
    "start = 2\n",
    "end = 7\n",
    "z=[]\n",
    "for x in range(start, end+1):\n",
    "    for y in range(end):\n",
    "        y = y+1\n",
    "#         print(x,y)\n",
    "        if x%y == 0:\n",
    "            if y not in z:\n",
    "                z.append(y)\n",
    "                \n",
    "print(z)\n",
    "\n",
    "# prime number check \n",
    "x=10\n",
    "for y in range(2,x-1):\n",
    "    if x%y==0:\n",
    "        print(\"not a prime\")\n",
    "        break\n",
    "    if x%x==0 and x%1==0:\n",
    "        print(\"prime\")\n",
    "        break"
   ]
  },
  {
   "cell_type": "code",
   "execution_count": null,
   "id": "5cc5e09e",
   "metadata": {},
   "outputs": [],
   "source": [
    "string = \"ininini\"\n",
    "sub_string = \"ini\"\n",
    "count = 0\n",
    "for i in range(0,len(string)):\n",
    "    if string[i:].startswith(sub_string):\n",
    "        count += 1\n",
    "print(count)"
   ]
  },
  {
   "cell_type": "code",
   "execution_count": null,
   "id": "ae4027cf",
   "metadata": {},
   "outputs": [],
   "source": [
    "import textwrap\n",
    "s = \"\"\"\n",
    "    \n",
    "    wrap returns array with elemnets as specified \n",
    "    fill returns string with new line as specified\n",
    "    dedent removes any common leading whitespace from every line in the input text\n",
    "    truncates input string so that length of string is equal to the given width \n",
    "        by removing the whitespaces with a single space or drops the characters \n",
    "        from the end are dropped so that the remaining words plus the placeholder fit within width\n",
    "        \n",
    "    \"\"\"\n",
    "\n",
    "# print(textwrap.wrap(s, width=15))  # returns array with elemnets as specified \n",
    "# print(textwrap.fill(s, width=15))  # returns string with new line as specified\n",
    "# print(textwrap.fill(s, 40, max_lines=3, placeholder=' ~',  initial_indent='  ')) # text, width, max number of lines, placeholder at the end\n",
    "# print(textwrap.dedent(s)) \n",
    "# print(textwrap.shorten(s, width=40))\n",
    "\n",
    "# print(textwrap.indent(s,  prefix='---'))\n",
    "# print(textwrap.fill(s, 40, initial_indent='---'))\n",
    "\n",
    "print(s.rjust(2, '*'))"
   ]
  },
  {
   "cell_type": "code",
   "execution_count": null,
   "id": "f52870a5",
   "metadata": {},
   "outputs": [],
   "source": [
    "a = [1,4,0,5,2,0,8,6,0,0,2,5]\n",
    "\n",
    "count=0\n",
    "res=[]\n",
    "for i in a:\n",
    "    if i!=0:\n",
    "        res.append(i)\n",
    "    else:\n",
    "        count+=1\n",
    "for y in range(count):\n",
    "    b = 0\n",
    "    res.append(b)\n",
    "    \n",
    "print(res)"
   ]
  },
  {
   "cell_type": "code",
   "execution_count": null,
   "id": "add1c447",
   "metadata": {},
   "outputs": [],
   "source": [
    "l1=[3, 6, 9, 12, 15, 18, 21]\n",
    "l2=[4, 8, 12, 16, 20, 24, 28]\n",
    "l3=[]\n",
    "l4=[]\n",
    "for i in l1:\n",
    "    if i%2!=0:\n",
    "        l3.append(i)\n",
    "for j in l2:\n",
    "    if j%2==0:\n",
    "        l3.append(j)\n",
    "print(\"odd element from L1 and even from l2 :\",l3)\n",
    "\n",
    "l4=l1[1::2] + l2[0::2]\n",
    "print(\"odd-index element from L1 and even-index from l2 :\",l4)"
   ]
  },
  {
   "cell_type": "code",
   "execution_count": null,
   "id": "9992a7d8",
   "metadata": {},
   "outputs": [],
   "source": [
    "a=[1.1, 2.2, 3.8, 3.1, 3.7, 1.2, 4.6]\n",
    "print(a.pop())\n",
    "print(a.pop(3))\n",
    "a.remove(1.1)\n",
    "a.insert(2,5.0)\n",
    "print(a)"
   ]
  },
  {
   "cell_type": "code",
   "execution_count": null,
   "id": "5eb27b0a",
   "metadata": {},
   "outputs": [],
   "source": [
    "a=[1,4,7,2,4,8,2,0,2]\n",
    "# 1st approach\n",
    "x=sorted(a)\n",
    "# for index,el in enumerate(x):\n",
    "#     if(index<(len(x)-1)):\n",
    "#         if el==x[index+1]:\n",
    "#             x.pop(el)\n",
    "# print(x)\n",
    "\n",
    "## 2nd approach\n",
    "# y=[*set(x)]\n",
    "# print(y)\n",
    "\n",
    "# # 3rd approach\n",
    "res=[]\n",
    "for x in a:\n",
    "    if x not in res:\n",
    "        res.append(x)\n",
    "print(sorted(res))\n"
   ]
  },
  {
   "cell_type": "code",
   "execution_count": null,
   "id": "a4729e1c",
   "metadata": {},
   "outputs": [],
   "source": [
    "s='nidhi'\n",
    "rev=s[::-1]\n",
    "print(s,rev)\n",
    "  "
   ]
  },
  {
   "cell_type": "code",
   "execution_count": null,
   "id": "1f50827c",
   "metadata": {},
   "outputs": [],
   "source": [
    "a=['I', 'want', 4, 'apples', 'and', 18, 'bananas']\n",
    "z=[]\n",
    "for x in a:\n",
    "    z.append(str(x))\n",
    "print(''.join(z))"
   ]
  },
  {
   "cell_type": "code",
   "execution_count": null,
   "id": "cfd0dfd0",
   "metadata": {},
   "outputs": [],
   "source": [
    "# exp i/p = \"John000Doe000123\"\n",
    "# exp o/p = { \"first_name\": \"John\", \"last_name\": \"Doe\", \"id\": \"123\" }\n",
    "import re \n",
    "\n",
    "x = \"John000Doe000123\"\n",
    "key = [\"first_name\",\"last_name\",\"id\"]\n",
    "res={}\n",
    "\n",
    "matches = re.findall(\"0+\", x)\n",
    "z= x.split(matches[0])\n",
    "for c in range(len(key)):\n",
    "    res.update({key[c]:z[c]})\n",
    "print(res)"
   ]
  },
  {
   "cell_type": "code",
   "execution_count": null,
   "id": "3defbf6d",
   "metadata": {},
   "outputs": [],
   "source": [
    "val = \"nidhi5430\"\n",
    "res=[]\n",
    "for x in val:\n",
    "    z = hex(ord(x))\n",
    "    res.append(z)\n",
    "print(res)  \n",
    "str1 = ' '\n",
    "result = str1.join(res)\n",
    "print(result)"
   ]
  },
  {
   "cell_type": "code",
   "execution_count": null,
   "id": "0e44a5b3",
   "metadata": {},
   "outputs": [],
   "source": [
    "# decimal to octal\n",
    "# a = 176.898\n",
    "# x = oct(int(a))\n",
    "# print(x)\n",
    "\n",
    "# Reverse an integer\n",
    "# a=3456878759138659735\n",
    "# r = str(a)\n",
    "# print(r[::-1])\n",
    "\n",
    "# fabonacci series. 1, 2, 3, 5, 8, 13, 21, 34, 55, 89\n",
    "end = 10\n",
    "a = 0\n",
    "b = 1\n",
    "for x in range(end):\n",
    "    c = a + b\n",
    "    a = b\n",
    "    b = c\n",
    "    print(b)"
   ]
  },
  {
   "cell_type": "code",
   "execution_count": null,
   "id": "ba9def6d",
   "metadata": {},
   "outputs": [],
   "source": [
    "import re\n",
    "x=\"bh1arat111and1111indi1a111are111same\"\n",
    "# x=\"1232156589821951116567753176\"\n",
    "match=re.findall('1+',x)\n",
    "split=x.split(match[0])\n",
    "result = ''.join(split)\n",
    "print(result)"
   ]
  },
  {
   "cell_type": "code",
   "execution_count": null,
   "id": "4e64b9ad",
   "metadata": {},
   "outputs": [],
   "source": [
    "# identify anagram\n",
    "\n",
    "# Input: s = \"cbaebabacd\", p = \"abc\"\n",
    "# Output: [0,6]\n",
    "s = \"cbaebabacdcab\"\n",
    "p = \"abc\"\n",
    "\n",
    "from itertools import permutations\n",
    "res=[]\n",
    "result = []\n",
    "\n",
    "for k in permutations(p):\n",
    "    res.append(''.join(k))\n",
    "for x in res:\n",
    "    if x in s:\n",
    "        index=s.rfind(x)\n",
    "        result.append(index)\n",
    "print(result)      "
   ]
  },
  {
   "cell_type": "code",
   "execution_count": null,
   "id": "0f8c6994",
   "metadata": {},
   "outputs": [],
   "source": [
    "anagrams = ['cat', 'dog', 'fired', 'god', 'pat', 'tap', 'fried', 'tac']\n",
    "grouped_anagrams = {}\n",
    "for string in anagrams:\n",
    "    sorted_string = str(sorted(string))\n",
    "    if sorted_string in grouped_anagrams:\n",
    "        grouped_anagrams[sorted_string].append(string)\n",
    "    else:\n",
    "        grouped_anagrams[sorted_string] = [string]\n",
    "print(list(grouped_anagrams.values()))"
   ]
  },
  {
   "cell_type": "code",
   "execution_count": null,
   "id": "0998528b",
   "metadata": {},
   "outputs": [],
   "source": [
    "s1 = [\"cat\", \"Alice\", \"tac\",\"wag\"]\n",
    "s2 = [\"Bat\",\"Ball\",\"tall\",\"TAB\"]\n",
    "s3 = s1+s2\n",
    "dict1={}\n",
    "for data in s3:\n",
    "    sorted_string=str(sorted(data.lower()))\n",
    "    if sorted_string in dict1:\n",
    "        dict1[sorted_string].append(data)\n",
    "    else:\n",
    "        dict1[sorted_string]=[data]\n",
    "        \n",
    "print(list(dict1.values()))\n",
    "        \n"
   ]
  },
  {
   "cell_type": "code",
   "execution_count": null,
   "id": "08e91218",
   "metadata": {},
   "outputs": [],
   "source": [
    "import re\n",
    "s=\"nidhi\"\n",
    "t=\"singh\"\n",
    "res=[]\n",
    "res1=[]\n",
    "x=s[::-1]+t[::-1]\n",
    "y = re.findall(\"i\",x)\n",
    "for data in x:\n",
    "    res.append(data)\n",
    "print(res)\n",
    "\n",
    "for r in res:\n",
    "    if r not in res1:\n",
    "        res1.append(r)\n",
    "\n",
    "print(res1)\n",
    "\n"
   ]
  },
  {
   "cell_type": "code",
   "execution_count": null,
   "id": "4083332f",
   "metadata": {},
   "outputs": [],
   "source": [
    "a=\"525255\"\n",
    "res=[]\n",
    "res1={}\n",
    "for x in range(len(a)):\n",
    "    if x<=len(a)-3:\n",
    "        if a[x]==a[x+2]:\n",
    "            res.append(a[x])\n",
    "            res1.update({a[x]:res.count(res[x])})\n",
    "            \n",
    "print(res1)"
   ]
  },
  {
   "cell_type": "code",
   "execution_count": null,
   "id": "6f2ab1b0",
   "metadata": {},
   "outputs": [],
   "source": [
    "a = [1, 2, 2, 3, 4]\n",
    "missing = 5\n",
    "repeating = 2\n",
    "if repeating in a:\n",
    "    print(f\"Given input array 'a' contains {repeating} repeating {a.count(repeating)} times\")\n",
    "else:\n",
    "    print(f\"Given input array 'a' does not contains {repeating}\")\n",
    "    \n",
    "if missing not in a:\n",
    "    print(f\"Given input array 'a' does not conatins {missing}\")\n",
    "else:\n",
    "    print(f\"Given input array 'a' conatins {missing}\")"
   ]
  },
  {
   "cell_type": "code",
   "execution_count": null,
   "id": "80102b3d",
   "metadata": {},
   "outputs": [],
   "source": [
    "# calculate avg\n",
    "numbers = [3098, 5565, 323, 1120, 2342, 75664, 2345]\n",
    "numbers2 = [5678, 1234, 763, 76509, 7689, 1230, 2000]\n",
    "# print(sum(numbers)/len(numbers))\n",
    "\n",
    "# find largest and smallest in given array\n",
    "a = sorted(numbers)\n",
    "smallest = a[0]\n",
    "largest = a[len(a)-1]\n",
    "print(largest,smallest)\n",
    "\n",
    "# find second largest\n",
    "sec_largest = a[len(a)-2]\n",
    "print(sec_largest)\n",
    "\n",
    "# array in rev order\n",
    "print(numbers[::-1])\n",
    "\n",
    "# insert at end of array\n",
    "numbers.append(456)\n",
    "print(numbers)\n",
    "\n",
    "# merge two sorted array into single sorted array\n",
    "print(sorted(sorted(numbers)+sorted(numbers2)))"
   ]
  },
  {
   "cell_type": "code",
   "execution_count": null,
   "id": "d227f057",
   "metadata": {},
   "outputs": [],
   "source": [
    "# patterns\n",
    "r=4\n",
    "# for a in range(r):\n",
    "#     print(' '*(r-a-1),'*'*(2*a+1))\n",
    "\n",
    "\n",
    "# for a in range(1,r+1):\n",
    "#     print('*'*(a))\n",
    "\n",
    "# c=0  \n",
    "# for a in range(r):\n",
    "#     c=c+1\n",
    "#     print(' '*(r-a-1),'*'*(c))"
   ]
  },
  {
   "cell_type": "code",
   "execution_count": null,
   "id": "cc150387",
   "metadata": {},
   "outputs": [],
   "source": [
    "\n",
    "print(\"   *\")                  # \" \":3, *:1\n",
    "print(\"  ***\")                 # \" \":2, *:3\n",
    "print(\" *****\")                # \" \":1, *:5\n",
    "print(\"*******\")               # \" \":0, *:7\n",
    "\n",
    "print(\"*\")                     # \" \":0, *:1\n",
    "print(\"**\")                    # \" \":0, *:2\n",
    "print(\"***\")                   # \" \":0, *:3\n",
    "print(\"****\")                  # \" \":0, *:4\n",
    "\n",
    "print(\"   *\")                  # \" \":3, *:1\n",
    "print(\"  **\")                  # \" \":2, *:2\n",
    "print(\" ***\")                  # \" \":1, *:3\n",
    "print(\"****\")                  # \" \":0, *:4\n",
    "\n",
    "\n"
   ]
  },
  {
   "cell_type": "code",
   "execution_count": null,
   "id": "8e8545e9",
   "metadata": {},
   "outputs": [],
   "source": [
    "a=\"535557\"\n",
    "res=[]\n",
    "res1={}\n",
    "\n",
    "for x in range(len(a)):\n",
    "    if x<=len(a)-3:\n",
    "        if a[x]==a[x+2]:\n",
    "            res.append(a[x])\n",
    "            res1.update({a[x]:res.count(a[x])})\n",
    "            \n",
    "print(res1)"
   ]
  },
  {
   "cell_type": "code",
   "execution_count": null,
   "id": "bfbb9e0f",
   "metadata": {},
   "outputs": [],
   "source": [
    "x = \"nidhi\"\n",
    "r=[]\n",
    "r1=[]\n",
    "r2=[]\n",
    "for data in x:\n",
    "    r.append(data)\n",
    "\n",
    "for y in r:\n",
    "    if y not in r1:\n",
    "        r1.append(y)\n",
    "    else:\n",
    "        r2.append(y)\n",
    "print(r2)"
   ]
  },
  {
   "cell_type": "code",
   "execution_count": null,
   "id": "b6d75fd0",
   "metadata": {},
   "outputs": [],
   "source": [
    "import re\n",
    "string = \"inininini\"\n",
    "sub_string = \"ini\"\n",
    "count=0\n",
    "x = re.findall(sub_string,string)\n",
    "for index in range(len(string)):\n",
    "    if string[index:index+3] == sub_string:\n",
    "        count=count+1\n",
    "print(count)    "
   ]
  },
  {
   "cell_type": "code",
   "execution_count": null,
   "id": "88dccee4",
   "metadata": {},
   "outputs": [],
   "source": [
    "p = \"00900\"\n",
    "n=p.strip('0')\n",
    "res=[]\n",
    "from itertools import permutations\n",
    "\n",
    "for i in range(1,len(n)+1):\n",
    "    if len(str(n))>1:\n",
    "        for k in permutations(n,i):\n",
    "            if k==k[::-1]:\n",
    "                res.append(\"\".join(k))\n",
    "        result = sorted([int(x) for x in res])[-1]\n",
    "    if len(str(n))==1:\n",
    "        res.append(n)\n",
    "        result = res[0]\n",
    "\n",
    "print(result)"
   ]
  },
  {
   "cell_type": "code",
   "execution_count": null,
   "id": "9f59a9c5",
   "metadata": {},
   "outputs": [],
   "source": [
    "<><??>   <><<<>>   4\n",
    "??????   <<<>>>    6\n",
    "<<?                2\n",
    "<<>><><<<>>>       6\n",
    "0 1 2 "
   ]
  },
  {
   "cell_type": "code",
   "execution_count": null,
   "id": "65c6115c",
   "metadata": {},
   "outputs": [],
   "source": [
    "import re\n",
    "s = \"<><??>\"\n",
    "count=0\n",
    "for index,x in enumerate(s):\n",
    "    if x==\"?\":\n",
    "        count=count+1\n",
    "        if count%2==0:\n",
    "            r = s.replace(s[3],\"<\",1)\n",
    "            new_s = r.replace(s[4],\">\",2)\n",
    "        else:\n",
    "            new_s = s\n",
    "print(new_s)"
   ]
  },
  {
   "cell_type": "code",
   "execution_count": null,
   "id": "d9be90ab",
   "metadata": {},
   "outputs": [],
   "source": [
    "s = \"??????\"\n",
    "count=0\n",
    "\n",
    "# replace only if ? is present\n",
    "if s.find('?')!=-1:\n",
    "    print(True)\n",
    "    for index,x in enumerate(s):\n",
    "        if x==\"?\":\n",
    "            count=count+1\n",
    "            \n",
    "    for a in range(1,(count//2)+1):\n",
    "        r = s.replace(s[a],\"<\",a)\n",
    "    for b in range(1,count+1):\n",
    "        new_s = r.replace(r[a],\">\",a)\n",
    "    print(new_s)\n",
    "    \n",
    "# count longest substring\n",
    "\n",
    "# for index_q,q in enumerate(s):\n",
    "#     while(len(str(s[index_q]))>=1):\n",
    "#         if s[index_q]==\"<\" and s[index_q+1]==\">\":\n",
    "#             if s[index_q-1]==\"<\" and s[index_q+2]==\">\":\n",
    "#                 count=count+1\n",
    "# print(count)"
   ]
  },
  {
   "cell_type": "code",
   "execution_count": null,
   "id": "139c3c22",
   "metadata": {},
   "outputs": [],
   "source": [
    "# sort by key : {'a':1, 'b':6, 'c':5, 'd':2, 'f':3, 'l':4}\n",
    "# soty by value: {'a':1, 'd':2, 'f':3, 'l':4, 'c':5, 'b':6}    \n",
    "\n",
    "mydict = {'a':1, 'd':2, 'l':4, 'f':3, 'b':6, 'c':5}\n",
    "# sort by key\n",
    "sort_by_key = {x:y for x,y in sorted(mydict.items())}\n",
    "#  sort by value\n",
    "sort_by_value = {x:y for x,y in sorted(mydict.items(), key=lambda mydict: mydict[1])}\n",
    "print(sort_by_value)"
   ]
  },
  {
   "cell_type": "code",
   "execution_count": null,
   "id": "30e34db8",
   "metadata": {},
   "outputs": [],
   "source": [
    "# find missing and repeating \n",
    "\n",
    "a = [1, 2, 2, 3, 4]\n",
    "missing = 5\n",
    "repeating = 2\n",
    "count=0\n",
    "\n",
    "if missing not in a:\n",
    "    print(f\"{missing} is missing in {a}\")\n",
    "else:\n",
    "    print(f\"{missing} is not missing in {a}\")\n",
    "for x in a:\n",
    "    if repeating==x:\n",
    "        count=count+1\n",
    "print(f\"{repeating} is repeating {count} times in {a}\")"
   ]
  },
  {
   "cell_type": "code",
   "execution_count": null,
   "id": "ce3faca0",
   "metadata": {},
   "outputs": [],
   "source": [
    "# minimize difference between max and min element of subarray size m\n",
    "\n",
    "a = [3, 4, 1, 9, 56, 7, 9, 12] \n",
    "m = 5\n",
    "sub=m-1\n",
    "res=[]\n",
    "y = sorted(a)\n",
    "for x in range(len(a)):\n",
    "    if x<(len(a)-sub):\n",
    "        res.append(y[x+sub]-y[x])\n",
    "print(sorted(res)[0])"
   ]
  },
  {
   "cell_type": "code",
   "execution_count": null,
   "id": "514e3264",
   "metadata": {},
   "outputs": [],
   "source": [
    "# match charcters of two word\n",
    "\n",
    "a = \"fired\"\n",
    "b = \"fried\"\n",
    "res = []\n",
    "if len(a)==len(b):\n",
    "    for x in a:\n",
    "        if x in b:\n",
    "            res.append(x)\n",
    "        else:\n",
    "            print(\"characters in {a} and {b} are not similar\")\n",
    "else:\n",
    "    print(\"characters in {a} and {b} are not similar\")\n",
    "if len(res)==len(a):\n",
    "    print(f\"characters in {a} is similiar to characters in {b}\")"
   ]
  },
  {
   "cell_type": "code",
   "execution_count": null,
   "id": "4f4a8510",
   "metadata": {
    "scrolled": true
   },
   "outputs": [],
   "source": [
    "# check wheather sum of any 2 elem equals x eg- {0, -1, 2, -3, 1}, x= -2 and  {1, -2, 1, 0, 5}, x = 0\n",
    "a = [1, -2, -1, 2, 5]\n",
    "x = 0\n",
    "# for y in range(len(a)):\n",
    "#     for z in range(y+1,len(a)):\n",
    "#         if a[y]+a[z]==x:\n",
    "#             print(\"yes\",a[y],a[z])\n",
    "            \n",
    "res={}\n",
    "from itertools import combinations            \n",
    "for d in combinations(a, 2):\n",
    "    if (d[0]+d[-1]==x):\n",
    "        res.update({(d[0],d[-1]):\"yes\"})\n",
    "    else:\n",
    "        res.update({(d[0],d[-1]):\"no\"})\n",
    "print(res)"
   ]
  },
  {
   "cell_type": "code",
   "execution_count": null,
   "id": "e9716c48",
   "metadata": {},
   "outputs": [],
   "source": [
    "# all permutaions of a with length c\n",
    "a = [1, -2, -1, 0, 5]\n",
    "c = 3\n",
    "from itertools import permutations, combinations\n",
    "# for b in permutations(a,3):\n",
    "#     print(b)\n",
    "    \n",
    "# all combinations of a with length c   \n",
    "for x in combinations(a, 3):\n",
    "    print(sorted(x))"
   ]
  },
  {
   "cell_type": "code",
   "execution_count": null,
   "id": "bde3e47e",
   "metadata": {},
   "outputs": [],
   "source": [
    "# find duplicates and number of their occurances\n",
    "a=[0,1,1,2,3,5,2,8,13,2]\n",
    "res={}\n",
    "result=[]\n",
    "for x in a:\n",
    "    res.update({x:a.count(x)})\n",
    "print(res)\n",
    "for key,value in res.items():\n",
    "    if value>1:\n",
    "        result.append(f\"{key}:{value}\")\n",
    "print(result)        "
   ]
  },
  {
   "cell_type": "code",
   "execution_count": null,
   "id": "da1deab6",
   "metadata": {},
   "outputs": [],
   "source": [
    "# fabbonaci series 0,1,1,2,3,5,8,13\n",
    "\n",
    "start = 0\n",
    "nxt=start+1\n",
    "ran=10\n",
    "res=[]\n",
    "res.append(start)\n",
    "res.append(nxt)\n",
    "for x in range(start,ran-2):\n",
    "    res.append(res[x]+res[x+1])\n",
    "print(res)   \n"
   ]
  },
  {
   "cell_type": "code",
   "execution_count": null,
   "id": "10cb2e57",
   "metadata": {},
   "outputs": [],
   "source": [
    "# fabbonaci series 0,1,1,2,3,5,8,13 (end element)\n",
    "def fab(a):\n",
    "    if a<=2:\n",
    "        return 1\n",
    "    return f(a-1)+f(a-2)\n",
    "\n",
    "fab(9)"
   ]
  },
  {
   "cell_type": "code",
   "execution_count": null,
   "id": "a0f7976e",
   "metadata": {},
   "outputs": [],
   "source": [
    "#  factorial of number 5!= 5*4*3*2*1=120.\n",
    "num=5\n",
    "fact = 1\n",
    "for x in range(1,num+1):\n",
    "    fact=fact*x\n",
    "print(fact)"
   ]
  },
  {
   "cell_type": "code",
   "execution_count": null,
   "id": "59cc8b22",
   "metadata": {},
   "outputs": [],
   "source": [
    "# reverse list 85 15 4 20 to 20 4 15 85\n",
    "a = [85, 15, 4, 20]\n",
    "b = []\n",
    "for x in a[::-1]:\n",
    "    b.append(x)\n",
    "print(b)"
   ]
  },
  {
   "cell_type": "code",
   "execution_count": null,
   "id": "8c171e8c",
   "metadata": {},
   "outputs": [],
   "source": [
    "# check angarams\n",
    "\n",
    "a=\"nidhi\"\n",
    "b=\"idhin\"\n",
    "if sorted(a)==sorted(b):\n",
    "    print(f\"{a},{b} are anagrams\")\n",
    "else:\n",
    "     print(f\"{a},{b} are not anagrams\")\n",
    "        \n"
   ]
  },
  {
   "cell_type": "code",
   "execution_count": null,
   "id": "45e73463",
   "metadata": {},
   "outputs": [],
   "source": [
    "# check vovels and consonent in string\n",
    "vovels=['a','e','i','o','u']\n",
    "vovel=[]\n",
    "consonet=[]\n",
    "for x in a:\n",
    "    if x in vovels:\n",
    "        if x not in vovel:\n",
    "            vovel.append(x)\n",
    "    else:\n",
    "        consonet.append(x)\n",
    "        \n",
    "print(f\"{vovel} vovels and {consonet} consonents are present in {a}\")"
   ]
  },
  {
   "cell_type": "code",
   "execution_count": 136,
   "id": "a9a08367",
   "metadata": {},
   "outputs": [
    {
     "name": "stdout",
     "output_type": "stream",
     "text": [
      "1 5\n"
     ]
    }
   ],
   "source": [
    "arr = [28, 68, 142, 130, 41, 14, 175, 2, 78, 16, 84, 14, 193, 25, 2, 193, 160, 71, 29, 28, 85, 76, 187, 99, 171, 88, 48, 5, 104, 22, 64, 107, 164, 11, 172, 90, 41, 165, 143, 20, 114, 192, 105, 19, 33, 151, 6, 176, 140, 104, 23, 99, 48, 185, 49, 172, 65]\n",
    "temp = arr.copy()\n",
    "N = 10\n",
    "s = 1562\n",
    "res = []\n",
    "for y in range(len(arr)):\n",
    "    add=0\n",
    "    l=temp[y]\n",
    "    for x in range(len(arr)):\n",
    "        add+=arr[x]\n",
    "        if add==s:\n",
    "            res.append([l,arr[x]])\n",
    "    arr.remove(arr[0])\n",
    "print(temp.index(res[0][0])+1,temp.index(res[0][-1])+1)"
   ]
  },
  {
   "cell_type": "code",
   "execution_count": 134,
   "id": "6d4d141f",
   "metadata": {},
   "outputs": [
    {
     "name": "stdout",
     "output_type": "stream",
     "text": [
      "17\n"
     ]
    }
   ],
   "source": [
    "N = 26\n",
    "a = [1,2,4,3,5,6,7,8,9,10,11,12,13,14,15,16,18,19,20,21,22,23,24,25,26]\n",
    "for x in range(1,N+1):\n",
    "    if x not in a:\n",
    "        print(x)"
   ]
  },
  {
   "cell_type": "code",
   "execution_count": 133,
   "id": "01459acd",
   "metadata": {
    "scrolled": true
   },
   "outputs": [
    {
     "name": "stdout",
     "output_type": "stream",
     "text": [
      "[17, 5, 2]\n"
     ]
    }
   ],
   "source": [
    "# find all parent, elmt is parent if it is greater than all elmt to its right, 17,5,2\n",
    "arr = [16,17,4,3,5,2]\n",
    "a=arr.copy()\n",
    "res=[]\n",
    "temp=[]\n",
    "for x in range(len(arr)-1):\n",
    "    a.remove(a[0])\n",
    "    res.append(a)\n",
    "    if max(res[0]) not in temp:\n",
    "        temp.append(max(res[0]))\n",
    "print(temp)"
   ]
  },
  {
   "cell_type": "code",
   "execution_count": 141,
   "id": "a469d860",
   "metadata": {},
   "outputs": [
    {
     "name": "stdout",
     "output_type": "stream",
     "text": [
      "15\n"
     ]
    }
   ],
   "source": [
    "# find kth smallest elmt --7\n",
    "N = 6\n",
    "arr = [7,10,4,20,15]\n",
    "K = 4\n",
    "arr.sort()\n",
    "print(arr[K-1])"
   ]
  },
  {
   "cell_type": "code",
   "execution_count": 194,
   "id": "fccae0c0",
   "metadata": {},
   "outputs": [
    {
     "name": "stdout",
     "output_type": "stream",
     "text": [
      "3\n"
     ]
    }
   ],
   "source": [
    "# count majority element\n",
    "# [[3,3],[1,2],[2,4]]\n",
    "A = [3,1,3,3,2]\n",
    "res=[]\n",
    "for x in range(len(A)):\n",
    "    if [A.count(A[x]),A[x]] not in res:\n",
    "        res.append([A.count(A[x]), A[x]])\n",
    "        \n",
    "if (sorted(res)[-1][0]) != 1:\n",
    "    print(sorted(res)[-1][1])\n",
    "else:\n",
    "    print(\"-1\")"
   ]
  },
  {
   "cell_type": "code",
   "execution_count": 4,
   "id": "a7318725",
   "metadata": {},
   "outputs": [
    {
     "name": "stdout",
     "output_type": "stream",
     "text": [
      "30\n"
     ]
    }
   ],
   "source": [
    "# max triplet product\n",
    "from itertools import combinations\n",
    "a = [1, 2, 3, 5]\n",
    "res=[]\n",
    "for x,y,z in combinations(a,3):\n",
    "    res.append(x*y*z)\n",
    "print(max(res))"
   ]
  },
  {
   "cell_type": "code",
   "execution_count": 3,
   "id": "d9707fbe",
   "metadata": {},
   "outputs": [
    {
     "name": "stdout",
     "output_type": "stream",
     "text": [
      "120\n"
     ]
    }
   ],
   "source": [
    "a = [-3, -5, 1, 0, 8, 3, -2]\n",
    "res=[]\n",
    "for x in range(len(a)):\n",
    "    for y in range(x+2,len(a)):\n",
    "        res.append(a[x]*a[x+1]*a[y])\n",
    "print(max(res))"
   ]
  },
  {
   "cell_type": "code",
   "execution_count": 7,
   "id": "52355615",
   "metadata": {},
   "outputs": [
    {
     "data": {
      "text/plain": [
       "120"
      ]
     },
     "execution_count": 7,
     "metadata": {},
     "output_type": "execute_result"
    }
   ],
   "source": [
    "a = [-3, -5, 1, 0, 8, 3, -2]\n",
    "a.sort()\n",
    "max(a[-1]*a[-2]*a[-3],a[-1]*a[0]*a[1])"
   ]
  },
  {
   "cell_type": "code",
   "execution_count": 66,
   "id": "7cf0030c",
   "metadata": {},
   "outputs": [
    {
     "name": "stdout",
     "output_type": "stream",
     "text": [
      "{3: 2, 4: 3, 6: 1, 5: 6}\n"
     ]
    }
   ],
   "source": [
    "# program to take key and value of dict from list elements\n",
    "\n",
    "length = [3,4,6,5]\n",
    "qty = [2,3,1,6]\n",
    "res={}\n",
    "for x in range(len(length)):\n",
    "    res.update({length[x]:qty[x]})\n",
    "print(res)"
   ]
  },
  {
   "cell_type": "code",
   "execution_count": null,
   "id": "03551f24",
   "metadata": {},
   "outputs": [],
   "source": [
    "# Write a Python function to reverse the order of words in a given sentence.\n",
    "st = \"Hello World!\"\n",
    "print(' '.join(st.split()[::-1]))"
   ]
  },
  {
   "cell_type": "code",
   "execution_count": null,
   "id": "0a27c353",
   "metadata": {},
   "outputs": [],
   "source": [
    "# Write a Python function to remove duplicates from a list of integers.\n",
    "arr = [1,6,4,0,9,4,6,2,4,3,10,9]\n",
    "st1 = [\"apple\", \"cherry\", \"Banana\", \"cherry\", \"date\", \"apple\"]\n",
    "\n",
    "#long\n",
    "x=[]\n",
    "for y in range(len(arr)):\n",
    "    if arr[y] not in x:\n",
    "        x.append(arr[y])\n",
    "print(sorted(x))\n",
    "\n",
    "# short \n",
    "print(list(set(st)))"
   ]
  },
  {
   "cell_type": "code",
   "execution_count": null,
   "id": "4cffca13",
   "metadata": {},
   "outputs": [],
   "source": [
    "# Write a Python function to reverse a string without using the built-in reverse() method.\n",
    "st2 = \"Nidhi Singh\"\n",
    "\n",
    "print(st[::-1])\n",
    "\n",
    "print(\"\".join(reversed(st)))"
   ]
  },
  {
   "cell_type": "code",
   "execution_count": null,
   "id": "906b3e81",
   "metadata": {},
   "outputs": [],
   "source": [
    "#Write a Python function to find the second largest number in a list of integers.\n",
    "arr = [1,6,4,0,9,4,6,2,4,3,10,9,11]\n",
    "arr.sort()\n",
    "print(arr[-2])"
   ]
  },
  {
   "cell_type": "code",
   "execution_count": null,
   "id": "4f6df806",
   "metadata": {},
   "outputs": [],
   "source": [
    "# Write a Python function to check whether a given string is a valid palindrome, considering only alphanumeric characters and ignoring cases.\n",
    "st = \"kayak\"\n",
    "if st==st[::-1]:\n",
    "    print(\"Valid palindrome\")\n",
    "else:\n",
    "    print(\"Not a valid palindrome\")"
   ]
  },
  {
   "cell_type": "code",
   "execution_count": null,
   "id": "ca9a7583",
   "metadata": {},
   "outputs": [],
   "source": [
    "# Write a Python function to sort a list of strings in alphabetical order, ignoring cases.\n",
    "st1 = [\"apple\", \"Banana\", \"cherry\", \"date\"]\n",
    "\n",
    "# long\n",
    "y=[]\n",
    "for x in st1:\n",
    "    y.append(x.lower())\n",
    "print(sorted(y))\n",
    "\n",
    "# short\n",
    "sorted(st1, key=lambda s: s.lower())\n",
    "print(st1)"
   ]
  },
  {
   "cell_type": "code",
   "execution_count": null,
   "id": "93bcabfc",
   "metadata": {},
   "outputs": [],
   "source": [
    "# Write a Python function to find the intersection of two lists.\n",
    "st1 = [1, 2, 3, 4]\n",
    "st2 = [3, 4, 5, 6]\n",
    "\n",
    "print(list(set(st1) & set(st2)))"
   ]
  },
  {
   "cell_type": "code",
   "execution_count": null,
   "id": "b9194f6b",
   "metadata": {},
   "outputs": [],
   "source": [
    "# Write a Python function to check whether a given number is prime or not.\n",
    "def is_prime(n):\n",
    "    if n <= 1:\n",
    "        return False\n",
    "    for i in range(2, n):\n",
    "        if n % i == 0:\n",
    "            return False\n",
    "    return True\n",
    "is_prime(2)"
   ]
  },
  {
   "cell_type": "code",
   "execution_count": null,
   "id": "a7178d0b",
   "metadata": {},
   "outputs": [],
   "source": [
    "# Write a Python function to find the sum of digits of a given number.\n",
    "num = 1409\n",
    "s = 0\n",
    "for x in str(num):\n",
    "    s = s + int(x)\n",
    "\n",
    "print(s)"
   ]
  },
  {
   "cell_type": "code",
   "execution_count": null,
   "id": "05aeded4",
   "metadata": {},
   "outputs": [],
   "source": [
    "# Write a Python function to check if two strings are anagrams.\n",
    "s = \"deep\"\n",
    "t = \"edep\"\n",
    "if sorted(s)==sorted(t):\n",
    "    print(True)\n",
    "else:\n",
    "    print(False)"
   ]
  },
  {
   "cell_type": "code",
   "execution_count": null,
   "id": "1023aeeb",
   "metadata": {},
   "outputs": [],
   "source": [
    "# Write a Python program to sort a list of integers in ascending order.\n",
    "arr = [1,6,4,0,9,4,6,2,4,3,10,9]\n",
    "sorted(arr, reverse=True)"
   ]
  },
  {
   "cell_type": "code",
   "execution_count": null,
   "id": "4b580a50",
   "metadata": {},
   "outputs": [],
   "source": [
    "# Write a Python function to count the number of vowels in a string.\n",
    "st=\"aeroplane\"\n",
    "count = 0\n",
    "for x in st:\n",
    "    if x in \"aeiou\":\n",
    "        count=count+1\n",
    "print(count)"
   ]
  },
  {
   "cell_type": "code",
   "execution_count": null,
   "id": "75bf5a3a",
   "metadata": {},
   "outputs": [],
   "source": [
    "# Write a Python function to compute the factorial of a given number.\n",
    "num = 3\n",
    "y=1\n",
    "for x in range(1,num+1):\n",
    "    y = y*x\n",
    "print(y)"
   ]
  },
  {
   "cell_type": "code",
   "execution_count": null,
   "id": "85ba9182",
   "metadata": {},
   "outputs": [],
   "source": [
    "# Write a Python program to find the sum of all even numbers in a list.\n",
    "arr = [1,6,4,0,9,4,6,2,4,3,10,9,11]\n",
    "s=0\n",
    "for x in arr:\n",
    "    if x%2==0:\n",
    "        s = s+x\n",
    "print(s)"
   ]
  },
  {
   "cell_type": "code",
   "execution_count": null,
   "id": "6a4e15ef",
   "metadata": {},
   "outputs": [],
   "source": [
    "# Write a Python function to check if a given year is a leap year.\n",
    "year = 1900\n",
    "if year%4==0:\n",
    "    if year%100==0:\n",
    "        if year%400==0:\n",
    "             print(True)\n",
    "        else:\n",
    "             print(False)\n",
    "    else:\n",
    "        print(True)\n",
    "else:\n",
    "    print(False)\n"
   ]
  },
  {
   "cell_type": "code",
   "execution_count": null,
   "id": "f0fa21ab",
   "metadata": {},
   "outputs": [],
   "source": [
    "# Write a Python program to find the length of the longest substring without repeating characters in a given string.\n",
    "st = \"ABCFTHYNUTEFSDUKJHFTTRS\"\n",
    "\n",
    "seen = {}\n",
    "start = 0\n",
    "max_length = 0\n",
    "\n",
    "for end in range(len(st)):\n",
    "    if st[end] in seen and start <= seen[st[end]]:\n",
    "        start = seen[st[end]] + 1\n",
    "    else:\n",
    "        max_length = max(max_length, end - start + 1)\n",
    "\n",
    "    seen[st[end]] = end\n",
    "\n",
    "print(max_length)"
   ]
  },
  {
   "cell_type": "code",
   "execution_count": null,
   "id": "15dbae63",
   "metadata": {},
   "outputs": [],
   "source": [
    "\"\"\"Write a function that takes two dictionaries as input and returns a new dictionary\n",
    "    that contains only the keys that are present in both dictionaries.\"\"\"\n",
    "\n",
    "dic1 = {1: \"John\", 3: \"Doe\", 7: \"123\" }\n",
    "dic2 = {3: \"chs\", 5: \"yid\", 2: \"bjcqka\", 1: \"hjqcsa\" }\n",
    "for key1 in dic1.keys():\n",
    "    if key1 in dic2.keys():\n",
    "        print(key1)\n"
   ]
  },
  {
   "cell_type": "code",
   "execution_count": null,
   "id": "8c95e582",
   "metadata": {},
   "outputs": [],
   "source": [
    "x = [{'a': 10, 'b': 8},{'d': 6, 'c': 4}]\n",
    "dt = {}\n",
    "for i, data in enumerate(x):\n",
    "    dt.update(x[i])\n",
    "print(dt)"
   ]
  },
  {
   "cell_type": "code",
   "execution_count": null,
   "id": "20459010",
   "metadata": {},
   "outputs": [],
   "source": [
    "# Write a function that takes a dictionary as input and returns the key with the highest value.\n",
    "dic = {3: \"chs\", 5: \"yid\", 2: \"bjcqka\", 1: \"hjqcsa\" }\n",
    "maxi = 0\n",
    "for key in dic.keys():\n",
    "    if key>maxi:\n",
    "        maxi = key\n",
    "print(maxi)"
   ]
  },
  {
   "cell_type": "code",
   "execution_count": null,
   "id": "c1551190",
   "metadata": {},
   "outputs": [],
   "source": [
    "# dict sorted in desc\n",
    "dic = {3: \"chs\", 5: \"yid\", 2: \"bjcqka\", 1: \"hjqcsa\" }\n",
    "res = sorted(dic, reverse=True)\n",
    "for key, value in sorted(dic.items()):\n",
    "    print({key:value})\n",
    "{key:value for key,value in sorted(dic.items(), key=lambda dic:dic[1])}\n",
    "#     print({key:value})\n"
   ]
  },
  {
   "cell_type": "code",
   "execution_count": null,
   "id": "15a6be52",
   "metadata": {},
   "outputs": [],
   "source": []
  }
 ],
 "metadata": {
  "kernelspec": {
   "display_name": "Python 3 (ipykernel)",
   "language": "python",
   "name": "python3"
  },
  "language_info": {
   "codemirror_mode": {
    "name": "ipython",
    "version": 3
   },
   "file_extension": ".py",
   "mimetype": "text/x-python",
   "name": "python",
   "nbconvert_exporter": "python",
   "pygments_lexer": "ipython3",
   "version": "3.11.2"
  }
 },
 "nbformat": 4,
 "nbformat_minor": 5
}
